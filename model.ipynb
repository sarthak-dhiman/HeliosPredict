{
 "cells": [
  {
   "cell_type": "code",
   "execution_count": null,
   "id": "a573beb5-6b60-4961-94c7-62e7c99bd731",
   "metadata": {},
   "outputs": [],
   "source": []
  },
  {
   "cell_type": "code",
   "execution_count": 63,
   "id": "8c88ef6d",
   "metadata": {},
   "outputs": [],
   "source": [
    "file_path = r'D:\\GithubProject\\HeliosPredict\\RTP_Data\\solar_production.xlsx'  # Change this to your actual file path\n",
    "df = pd.read_excel(file_path)\n",
    "\n",
    "df.head()\n",
    "\n",
    "df['temp_cloud_interaction'] = df['temp_c'] * df['cloud_cover']\n",
    "df['humidity_wind_interaction'] = df['humidity'] * df['wind_kph']\n"
   ]
  },
  {
   "cell_type": "code",
   "execution_count": 64,
   "id": "8a6b6f9f",
   "metadata": {},
   "outputs": [],
   "source": [
    "features = ['uv_index', 'condition', 'cloud_cover', 'temp_c', 'humidity', 'wind_kph']\n",
    "target = 'power(kw)'\n",
    "\n",
    "X = df[features]\n",
    "y = df[target]\n",
    "\n",
    "num_features = ['uv_index', 'cloud_cover', 'temp_c', 'humidity', 'wind_kph']\n",
    "cat_features = ['condition']\n"
   ]
  },
  {
   "cell_type": "code",
   "execution_count": 65,
   "id": "c7f23bc6",
   "metadata": {},
   "outputs": [],
   "source": [
    "preprocessor = ColumnTransformer([\n",
    "    ('num', StandardScaler(), num_features),\n",
    "    ('cat', OneHotEncoder(handle_unknown='ignore'), cat_features)\n",
    "])\n",
    "\n",
    "X_processed = preprocessor.fit_transform(X)\n",
    "X_train, X_test, y_train, y_test = train_test_split(X_processed, y, test_size=0.2, random_state=42)"
   ]
  },
  {
   "cell_type": "code",
   "execution_count": 66,
   "id": "2dba7905",
   "metadata": {},
   "outputs": [
    {
     "name": "stdout",
     "output_type": "stream",
     "text": [
      "Epoch 1/100\n"
     ]
    },
    {
     "name": "stderr",
     "output_type": "stream",
     "text": [
      "C:\\Users\\Sarthak Dhiman\\AppData\\Local\\Packages\\PythonSoftwareFoundation.Python.3.12_qbz5n2kfra8p0\\LocalCache\\local-packages\\Python312\\site-packages\\keras\\src\\layers\\core\\dense.py:87: UserWarning: Do not pass an `input_shape`/`input_dim` argument to a layer. When using Sequential models, prefer using an `Input(shape)` object as the first layer in the model instead.\n",
      "  super().__init__(activity_regularizer=activity_regularizer, **kwargs)\n"
     ]
    },
    {
     "name": "stdout",
     "output_type": "stream",
     "text": [
      "\u001b[1m202/202\u001b[0m \u001b[32m━━━━━━━━━━━━━━━━━━━━\u001b[0m\u001b[37m\u001b[0m \u001b[1m1s\u001b[0m 2ms/step - loss: 0.6109 - mae: 0.6206 - val_loss: 0.3966 - val_mae: 0.5035\n",
      "Epoch 2/100\n",
      "\u001b[1m202/202\u001b[0m \u001b[32m━━━━━━━━━━━━━━━━━━━━\u001b[0m\u001b[37m\u001b[0m \u001b[1m0s\u001b[0m 1ms/step - loss: 0.4142 - mae: 0.5102 - val_loss: 0.3733 - val_mae: 0.4768\n",
      "Epoch 3/100\n",
      "\u001b[1m202/202\u001b[0m \u001b[32m━━━━━━━━━━━━━━━━━━━━\u001b[0m\u001b[37m\u001b[0m \u001b[1m0s\u001b[0m 1ms/step - loss: 0.4008 - mae: 0.4952 - val_loss: 0.3864 - val_mae: 0.4857\n",
      "Epoch 4/100\n",
      "\u001b[1m202/202\u001b[0m \u001b[32m━━━━━━━━━━━━━━━━━━━━\u001b[0m\u001b[37m\u001b[0m \u001b[1m0s\u001b[0m 1ms/step - loss: 0.3897 - mae: 0.4896 - val_loss: 0.3715 - val_mae: 0.4966\n",
      "Epoch 5/100\n",
      "\u001b[1m202/202\u001b[0m \u001b[32m━━━━━━━━━━━━━━━━━━━━\u001b[0m\u001b[37m\u001b[0m \u001b[1m0s\u001b[0m 1ms/step - loss: 0.3871 - mae: 0.4874 - val_loss: 0.3699 - val_mae: 0.4709\n",
      "Epoch 6/100\n",
      "\u001b[1m202/202\u001b[0m \u001b[32m━━━━━━━━━━━━━━━━━━━━\u001b[0m\u001b[37m\u001b[0m \u001b[1m0s\u001b[0m 1ms/step - loss: 0.3890 - mae: 0.4893 - val_loss: 0.3708 - val_mae: 0.4859\n",
      "Epoch 7/100\n",
      "\u001b[1m202/202\u001b[0m \u001b[32m━━━━━━━━━━━━━━━━━━━━\u001b[0m\u001b[37m\u001b[0m \u001b[1m0s\u001b[0m 1ms/step - loss: 0.3735 - mae: 0.4757 - val_loss: 0.3754 - val_mae: 0.4867\n",
      "Epoch 8/100\n",
      "\u001b[1m202/202\u001b[0m \u001b[32m━━━━━━━━━━━━━━━━━━━━\u001b[0m\u001b[37m\u001b[0m \u001b[1m0s\u001b[0m 2ms/step - loss: 0.3793 - mae: 0.4819 - val_loss: 0.3927 - val_mae: 0.4786\n",
      "Epoch 9/100\n",
      "\u001b[1m202/202\u001b[0m \u001b[32m━━━━━━━━━━━━━━━━━━━━\u001b[0m\u001b[37m\u001b[0m \u001b[1m0s\u001b[0m 1ms/step - loss: 0.3632 - mae: 0.4690 - val_loss: 0.3632 - val_mae: 0.4734\n",
      "Epoch 10/100\n",
      "\u001b[1m202/202\u001b[0m \u001b[32m━━━━━━━━━━━━━━━━━━━━\u001b[0m\u001b[37m\u001b[0m \u001b[1m0s\u001b[0m 1ms/step - loss: 0.3498 - mae: 0.4590 - val_loss: 0.3622 - val_mae: 0.4689\n",
      "Epoch 11/100\n",
      "\u001b[1m202/202\u001b[0m \u001b[32m━━━━━━━━━━━━━━━━━━━━\u001b[0m\u001b[37m\u001b[0m \u001b[1m0s\u001b[0m 1ms/step - loss: 0.3684 - mae: 0.4673 - val_loss: 0.3617 - val_mae: 0.4682\n",
      "Epoch 12/100\n",
      "\u001b[1m202/202\u001b[0m \u001b[32m━━━━━━━━━━━━━━━━━━━━\u001b[0m\u001b[37m\u001b[0m \u001b[1m0s\u001b[0m 1ms/step - loss: 0.3696 - mae: 0.4743 - val_loss: 0.3739 - val_mae: 0.4724\n",
      "Epoch 13/100\n",
      "\u001b[1m202/202\u001b[0m \u001b[32m━━━━━━━━━━━━━━━━━━━━\u001b[0m\u001b[37m\u001b[0m \u001b[1m0s\u001b[0m 1ms/step - loss: 0.3633 - mae: 0.4694 - val_loss: 0.3667 - val_mae: 0.4656\n",
      "Epoch 14/100\n",
      "\u001b[1m202/202\u001b[0m \u001b[32m━━━━━━━━━━━━━━━━━━━━\u001b[0m\u001b[37m\u001b[0m \u001b[1m0s\u001b[0m 2ms/step - loss: 0.3524 - mae: 0.4647 - val_loss: 0.3637 - val_mae: 0.4776\n",
      "Epoch 15/100\n",
      "\u001b[1m202/202\u001b[0m \u001b[32m━━━━━━━━━━━━━━━━━━━━\u001b[0m\u001b[37m\u001b[0m \u001b[1m0s\u001b[0m 2ms/step - loss: 0.3609 - mae: 0.4687 - val_loss: 0.3672 - val_mae: 0.4637\n",
      "Epoch 16/100\n",
      "\u001b[1m202/202\u001b[0m \u001b[32m━━━━━━━━━━━━━━━━━━━━\u001b[0m\u001b[37m\u001b[0m \u001b[1m0s\u001b[0m 1ms/step - loss: 0.3687 - mae: 0.4676 - val_loss: 0.3550 - val_mae: 0.4580\n",
      "Epoch 17/100\n",
      "\u001b[1m202/202\u001b[0m \u001b[32m━━━━━━━━━━━━━━━━━━━━\u001b[0m\u001b[37m\u001b[0m \u001b[1m0s\u001b[0m 1ms/step - loss: 0.3836 - mae: 0.4805 - val_loss: 0.3511 - val_mae: 0.4606\n",
      "Epoch 18/100\n",
      "\u001b[1m202/202\u001b[0m \u001b[32m━━━━━━━━━━━━━━━━━━━━\u001b[0m\u001b[37m\u001b[0m \u001b[1m0s\u001b[0m 1ms/step - loss: 0.3520 - mae: 0.4596 - val_loss: 0.3474 - val_mae: 0.4559\n",
      "Epoch 19/100\n",
      "\u001b[1m202/202\u001b[0m \u001b[32m━━━━━━━━━━━━━━━━━━━━\u001b[0m\u001b[37m\u001b[0m \u001b[1m0s\u001b[0m 1ms/step - loss: 0.3487 - mae: 0.4549 - val_loss: 0.3525 - val_mae: 0.4516\n",
      "Epoch 20/100\n",
      "\u001b[1m202/202\u001b[0m \u001b[32m━━━━━━━━━━━━━━━━━━━━\u001b[0m\u001b[37m\u001b[0m \u001b[1m0s\u001b[0m 1ms/step - loss: 0.3560 - mae: 0.4612 - val_loss: 0.3599 - val_mae: 0.4541\n",
      "Epoch 21/100\n",
      "\u001b[1m202/202\u001b[0m \u001b[32m━━━━━━━━━━━━━━━━━━━━\u001b[0m\u001b[37m\u001b[0m \u001b[1m0s\u001b[0m 1ms/step - loss: 0.3429 - mae: 0.4482 - val_loss: 0.3544 - val_mae: 0.4564\n",
      "Epoch 22/100\n",
      "\u001b[1m202/202\u001b[0m \u001b[32m━━━━━━━━━━━━━━━━━━━━\u001b[0m\u001b[37m\u001b[0m \u001b[1m0s\u001b[0m 2ms/step - loss: 0.3512 - mae: 0.4516 - val_loss: 0.3581 - val_mae: 0.4681\n",
      "Epoch 23/100\n",
      "\u001b[1m202/202\u001b[0m \u001b[32m━━━━━━━━━━━━━━━━━━━━\u001b[0m\u001b[37m\u001b[0m \u001b[1m0s\u001b[0m 2ms/step - loss: 0.3415 - mae: 0.4522 - val_loss: 0.3690 - val_mae: 0.4587\n",
      "Epoch 24/100\n",
      "\u001b[1m202/202\u001b[0m \u001b[32m━━━━━━━━━━━━━━━━━━━━\u001b[0m\u001b[37m\u001b[0m \u001b[1m0s\u001b[0m 1ms/step - loss: 0.3444 - mae: 0.4525 - val_loss: 0.3527 - val_mae: 0.4498\n",
      "Epoch 25/100\n",
      "\u001b[1m202/202\u001b[0m \u001b[32m━━━━━━━━━━━━━━━━━━━━\u001b[0m\u001b[37m\u001b[0m \u001b[1m0s\u001b[0m 1ms/step - loss: 0.3421 - mae: 0.4489 - val_loss: 0.3649 - val_mae: 0.4702\n",
      "Epoch 26/100\n",
      "\u001b[1m202/202\u001b[0m \u001b[32m━━━━━━━━━━━━━━━━━━━━\u001b[0m\u001b[37m\u001b[0m \u001b[1m0s\u001b[0m 1ms/step - loss: 0.3333 - mae: 0.4448 - val_loss: 0.3478 - val_mae: 0.4556\n",
      "Epoch 27/100\n",
      "\u001b[1m202/202\u001b[0m \u001b[32m━━━━━━━━━━━━━━━━━━━━\u001b[0m\u001b[37m\u001b[0m \u001b[1m0s\u001b[0m 1ms/step - loss: 0.3329 - mae: 0.4384 - val_loss: 0.3516 - val_mae: 0.4522\n",
      "Epoch 28/100\n",
      "\u001b[1m202/202\u001b[0m \u001b[32m━━━━━━━━━━━━━━━━━━━━\u001b[0m\u001b[37m\u001b[0m \u001b[1m0s\u001b[0m 1ms/step - loss: 0.3260 - mae: 0.4315 - val_loss: 0.3467 - val_mae: 0.4560\n",
      "Epoch 29/100\n",
      "\u001b[1m202/202\u001b[0m \u001b[32m━━━━━━━━━━━━━━━━━━━━\u001b[0m\u001b[37m\u001b[0m \u001b[1m0s\u001b[0m 1ms/step - loss: 0.3600 - mae: 0.4634 - val_loss: 0.3580 - val_mae: 0.4525\n",
      "Epoch 30/100\n",
      "\u001b[1m202/202\u001b[0m \u001b[32m━━━━━━━━━━━━━━━━━━━━\u001b[0m\u001b[37m\u001b[0m \u001b[1m0s\u001b[0m 1ms/step - loss: 0.3298 - mae: 0.4413 - val_loss: 0.3554 - val_mae: 0.4657\n",
      "Epoch 31/100\n",
      "\u001b[1m202/202\u001b[0m \u001b[32m━━━━━━━━━━━━━━━━━━━━\u001b[0m\u001b[37m\u001b[0m \u001b[1m0s\u001b[0m 1ms/step - loss: 0.3426 - mae: 0.4504 - val_loss: 0.3492 - val_mae: 0.4591\n",
      "Epoch 32/100\n",
      "\u001b[1m202/202\u001b[0m \u001b[32m━━━━━━━━━━━━━━━━━━━━\u001b[0m\u001b[37m\u001b[0m \u001b[1m0s\u001b[0m 1ms/step - loss: 0.3429 - mae: 0.4497 - val_loss: 0.3532 - val_mae: 0.4544\n",
      "Epoch 33/100\n",
      "\u001b[1m202/202\u001b[0m \u001b[32m━━━━━━━━━━━━━━━━━━━━\u001b[0m\u001b[37m\u001b[0m \u001b[1m0s\u001b[0m 1ms/step - loss: 0.3230 - mae: 0.4346 - val_loss: 0.3599 - val_mae: 0.4615\n",
      "Epoch 34/100\n",
      "\u001b[1m202/202\u001b[0m \u001b[32m━━━━━━━━━━━━━━━━━━━━\u001b[0m\u001b[37m\u001b[0m \u001b[1m0s\u001b[0m 1ms/step - loss: 0.3318 - mae: 0.4438 - val_loss: 0.3483 - val_mae: 0.4513\n",
      "Epoch 35/100\n",
      "\u001b[1m202/202\u001b[0m \u001b[32m━━━━━━━━━━━━━━━━━━━━\u001b[0m\u001b[37m\u001b[0m \u001b[1m0s\u001b[0m 1ms/step - loss: 0.3309 - mae: 0.4401 - val_loss: 0.3531 - val_mae: 0.4690\n",
      "Epoch 36/100\n",
      "\u001b[1m202/202\u001b[0m \u001b[32m━━━━━━━━━━━━━━━━━━━━\u001b[0m\u001b[37m\u001b[0m \u001b[1m0s\u001b[0m 1ms/step - loss: 0.3366 - mae: 0.4441 - val_loss: 0.3619 - val_mae: 0.4529\n",
      "Epoch 37/100\n",
      "\u001b[1m202/202\u001b[0m \u001b[32m━━━━━━━━━━━━━━━━━━━━\u001b[0m\u001b[37m\u001b[0m \u001b[1m0s\u001b[0m 1ms/step - loss: 0.3277 - mae: 0.4427 - val_loss: 0.3500 - val_mae: 0.4485\n",
      "Epoch 38/100\n",
      "\u001b[1m202/202\u001b[0m \u001b[32m━━━━━━━━━━━━━━━━━━━━\u001b[0m\u001b[37m\u001b[0m \u001b[1m0s\u001b[0m 1ms/step - loss: 0.3335 - mae: 0.4416 - val_loss: 0.3612 - val_mae: 0.4617\n"
     ]
    }
   ],
   "source": [
    "nn_model = keras.Sequential([\n",
    "    keras.layers.Dense(64, activation='relu', input_shape=(X_train.shape[1],)),\n",
    "    keras.layers.Dense(32, activation='relu'),\n",
    "    keras.layers.Dense(1)\n",
    "])\n",
    "\n",
    "nn_model.compile(optimizer='adam', loss='mse', metrics=['mae'])\n",
    "\n",
    "early_stop = keras.callbacks.EarlyStopping(monitor='val_loss', patience=10, restore_best_weights=True)\n",
    "\n",
    "history = nn_model.fit(\n",
    "    X_train, y_train,\n",
    "    validation_data=(X_test, y_test),\n",
    "    epochs=100,\n",
    "    batch_size=16,\n",
    "    callbacks=[early_stop],\n",
    "    verbose=1\n",
    ")"
   ]
  },
  {
   "cell_type": "code",
   "execution_count": 67,
   "id": "e7418c41",
   "metadata": {},
   "outputs": [
    {
     "name": "stdout",
     "output_type": "stream",
     "text": [
      "\u001b[1m26/26\u001b[0m \u001b[32m━━━━━━━━━━━━━━━━━━━━\u001b[0m\u001b[37m\u001b[0m \u001b[1m0s\u001b[0m 2ms/step \n",
      "Neural Net -> MAE: 0.4560, RMSE: 0.5888, R²: 0.5110\n"
     ]
    },
    {
     "data": {
      "image/png": "[encoded data removed]",
      "text/plain": [
       "<Figure size 640x480 with 1 Axes>"
      ]
     },
     "metadata": {},
     "output_type": "display_data"
    }
   ],
   "source": [
    "y_pred_nn = nn_model.predict(X_test)\n",
    "mae_nn = mean_absolute_error(y_test, y_pred_nn)\n",
    "rmse_nn = np.sqrt(mean_squared_error(y_test, y_pred_nn))\n",
    "r2_nn = r2_score(y_test, y_pred_nn)\n",
    "\n",
    "print(f\"Neural Net -> MAE: {mae_nn:.4f}, RMSE: {rmse_nn:.4f}, R²: {r2_nn:.4f}\")\n",
    "\n",
    "plt.plot(history.history['loss'], label='Training Loss')\n",
    "plt.plot(history.history['val_loss'], label='Validation Loss')\n",
    "plt.title(\"Model Training vs Validation Loss\")\n",
    "plt.xlabel(\"Epoch\")\n",
    "plt.ylabel(\"MSE Loss\")\n",
    "plt.legend()\n",
    "plt.show()"
   ]
  },
  {
   "cell_type": "code",
   "execution_count": 68,
   "id": "606142e1",
   "metadata": {},
   "outputs": [
    {
     "name": "stdout",
     "output_type": "stream",
     "text": [
      "RandomForest -> MAE: 0.4195, RMSE: 0.5688, R²: 0.5437\n"
     ]
    }
   ],
   "source": [
    "rf_model = RandomForestRegressor(n_estimators=200, random_state=42)\n",
    "rf_model.fit(X_train, y_train)\n",
    "\n",
    "y_pred_rf = rf_model.predict(X_test)\n",
    "mae_rf = mean_absolute_error(y_test, y_pred_rf)\n",
    "rmse_rf = np.sqrt(mean_squared_error(y_test, y_pred_rf))\n",
    "r2_rf = r2_score(y_test, y_pred_rf)\n",
    "\n",
    "print(f\"RandomForest -> MAE: {mae_rf:.4f}, RMSE: {rmse_rf:.4f}, R²: {r2_rf:.4f}\")"
   ]
  },
  {
   "cell_type": "code",
   "execution_count": 69,
   "id": "7340e94d",
   "metadata": {},
   "outputs": [
    {
     "name": "stderr",
     "output_type": "stream",
     "text": [
      "WARNING:absl:You are saving your model as an HDF5 file via `model.save()` or `keras.saving.save_model(model)`. This file format is considered legacy. We recommend using instead the native Keras format, e.g. `model.save('my_model.keras')` or `keras.saving.save_model(model, 'my_model.keras')`. \n"
     ]
    },
    {
     "name": "stdout",
     "output_type": "stream",
     "text": [
      "Models & Preprocessor Saved in /models\n"
     ]
    }
   ],
   "source": [
    "os.makedirs(\"models\", exist_ok=True)\n",
    "dump(preprocessor, \"models/preprocessor.joblib\")\n",
    "nn_model.save(\"models/nn_model.h5\")\n",
    "dump(rf_model, \"models/rf_model.joblib\")\n",
    "print(\"Models & Preprocessor Saved in /models\")"
   ]
  },
  {
   "cell_type": "code",
   "execution_count": 70,
   "id": "63b2dea8",
   "metadata": {},
   "outputs": [
    {
     "name": "stdout",
     "output_type": "stream",
     "text": [
      "\u001b[1m1/1\u001b[0m \u001b[32m━━━━━━━━━━━━━━━━━━━━\u001b[0m\u001b[37m\u001b[0m \u001b[1m0s\u001b[0m 50ms/step\n",
      "NN Predicted Power: 1.27 kW\n",
      "RF Predicted Power: 1.34 kW\n"
     ]
    }
   ],
   "source": [
    "preprocessor_loaded = load(\"models/preprocessor.joblib\")\n",
    "\n",
    "nn_loaded = keras.models.load_model(\"models/nn_model.h5\", compile=False)\n",
    "\n",
    "rf_loaded = load(\"models/rf_model.joblib\")\n",
    "\n",
    "future_weather = pd.DataFrame([\n",
    "    {'uv_index': 7, 'condition': 'Sunny', 'cloud_cover': 0, 'temp_c': 30, 'humidity': 40, 'wind_kph': 10}\n",
    "])\n",
    "\n",
    "future_weather_processed = preprocessor_loaded.transform(future_weather)\n",
    "\n",
    "nn_future_pred = nn_loaded.predict(future_weather_processed)[0][0]\n",
    "rf_future_pred = rf_loaded.predict(future_weather_processed)[0]\n",
    "\n",
    "print(f\"NN Predicted Power: {nn_future_pred:.2f} kW\")\n",
    "print(f\"RF Predicted Power: {rf_future_pred:.2f} kW\")"
   ]
  }
 ],
 "metadata": {
  "kernelspec": {
   "display_name": "Python 3",
   "language": "python",
   "name": "python3"
  },
  "language_info": {
   "codemirror_mode": {
    "name": "ipython",
    "version": 3
   },
   "file_extension": ".py",
   "mimetype": "text/x-python",
   "name": "python",
   "nbconvert_exporter": "python",
   "pygments_lexer": "ipython3",
   "version": "3.12.10"
  }
 },
 "nbformat": 4,
 "nbformat_minor": 5
}
